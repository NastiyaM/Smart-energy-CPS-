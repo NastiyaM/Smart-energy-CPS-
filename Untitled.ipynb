{
 "cells": [
  {
   "cell_type": "code",
   "execution_count": 218,
   "metadata": {},
   "outputs": [],
   "source": [
    "import pandas as pd\n",
    "import matplotlib.pylab as plt\n",
    "import numpy as np"
   ]
  },
  {
   "cell_type": "code",
   "execution_count": 219,
   "metadata": {},
   "outputs": [
    {
     "data": {
      "text/html": [
       "<div>\n",
       "<style scoped>\n",
       "    .dataframe tbody tr th:only-of-type {\n",
       "        vertical-align: middle;\n",
       "    }\n",
       "\n",
       "    .dataframe tbody tr th {\n",
       "        vertical-align: top;\n",
       "    }\n",
       "\n",
       "    .dataframe thead th {\n",
       "        text-align: right;\n",
       "    }\n",
       "</style>\n",
       "<table border=\"1\" class=\"dataframe\">\n",
       "  <thead>\n",
       "    <tr style=\"text-align: right;\">\n",
       "      <th></th>\n",
       "      <th>run_id</th>\n",
       "      <th>site_id</th>\n",
       "      <th>battery_id</th>\n",
       "      <th>period_id</th>\n",
       "      <th>money_spent</th>\n",
       "      <th>money_no_batt</th>\n",
       "      <th>score</th>\n",
       "    </tr>\n",
       "  </thead>\n",
       "  <tbody>\n",
       "    <tr>\n",
       "      <th>150</th>\n",
       "      <td>10_1_1</td>\n",
       "      <td>10</td>\n",
       "      <td>1</td>\n",
       "      <td>1</td>\n",
       "      <td>8233.395072</td>\n",
       "      <td>9696.784960</td>\n",
       "      <td>-0.150915</td>\n",
       "    </tr>\n",
       "    <tr>\n",
       "      <th>151</th>\n",
       "      <td>10_1_2</td>\n",
       "      <td>10</td>\n",
       "      <td>1</td>\n",
       "      <td>2</td>\n",
       "      <td>2324.751719</td>\n",
       "      <td>2822.340861</td>\n",
       "      <td>-0.176304</td>\n",
       "    </tr>\n",
       "    <tr>\n",
       "      <th>152</th>\n",
       "      <td>10_1_3</td>\n",
       "      <td>10</td>\n",
       "      <td>1</td>\n",
       "      <td>3</td>\n",
       "      <td>1964.539845</td>\n",
       "      <td>2631.829704</td>\n",
       "      <td>-0.253546</td>\n",
       "    </tr>\n",
       "    <tr>\n",
       "      <th>153</th>\n",
       "      <td>10_1_4</td>\n",
       "      <td>10</td>\n",
       "      <td>1</td>\n",
       "      <td>4</td>\n",
       "      <td>2386.440192</td>\n",
       "      <td>3154.757992</td>\n",
       "      <td>-0.243543</td>\n",
       "    </tr>\n",
       "    <tr>\n",
       "      <th>154</th>\n",
       "      <td>10_1_5</td>\n",
       "      <td>10</td>\n",
       "      <td>1</td>\n",
       "      <td>5</td>\n",
       "      <td>4605.945678</td>\n",
       "      <td>4935.159391</td>\n",
       "      <td>-0.066708</td>\n",
       "    </tr>\n",
       "    <tr>\n",
       "      <th>155</th>\n",
       "      <td>10_1_6</td>\n",
       "      <td>10</td>\n",
       "      <td>1</td>\n",
       "      <td>6</td>\n",
       "      <td>7625.865922</td>\n",
       "      <td>8887.455455</td>\n",
       "      <td>-0.141952</td>\n",
       "    </tr>\n",
       "    <tr>\n",
       "      <th>156</th>\n",
       "      <td>10_1_7</td>\n",
       "      <td>10</td>\n",
       "      <td>1</td>\n",
       "      <td>7</td>\n",
       "      <td>7682.609189</td>\n",
       "      <td>9206.205705</td>\n",
       "      <td>-0.165497</td>\n",
       "    </tr>\n",
       "    <tr>\n",
       "      <th>157</th>\n",
       "      <td>10_1_8</td>\n",
       "      <td>10</td>\n",
       "      <td>1</td>\n",
       "      <td>8</td>\n",
       "      <td>1719.569218</td>\n",
       "      <td>2341.993109</td>\n",
       "      <td>-0.265767</td>\n",
       "    </tr>\n",
       "    <tr>\n",
       "      <th>158</th>\n",
       "      <td>10_1_9</td>\n",
       "      <td>10</td>\n",
       "      <td>1</td>\n",
       "      <td>9</td>\n",
       "      <td>2975.351508</td>\n",
       "      <td>3702.768254</td>\n",
       "      <td>-0.196452</td>\n",
       "    </tr>\n",
       "    <tr>\n",
       "      <th>159</th>\n",
       "      <td>10_1_10</td>\n",
       "      <td>10</td>\n",
       "      <td>1</td>\n",
       "      <td>10</td>\n",
       "      <td>1897.722093</td>\n",
       "      <td>2496.438344</td>\n",
       "      <td>-0.239828</td>\n",
       "    </tr>\n",
       "    <tr>\n",
       "      <th>160</th>\n",
       "      <td>10_2_1</td>\n",
       "      <td>10</td>\n",
       "      <td>2</td>\n",
       "      <td>1</td>\n",
       "      <td>7400.154523</td>\n",
       "      <td>9696.784960</td>\n",
       "      <td>-0.236845</td>\n",
       "    </tr>\n",
       "    <tr>\n",
       "      <th>161</th>\n",
       "      <td>10_2_2</td>\n",
       "      <td>10</td>\n",
       "      <td>2</td>\n",
       "      <td>2</td>\n",
       "      <td>2053.015012</td>\n",
       "      <td>2822.340861</td>\n",
       "      <td>-0.272584</td>\n",
       "    </tr>\n",
       "    <tr>\n",
       "      <th>162</th>\n",
       "      <td>10_2_3</td>\n",
       "      <td>10</td>\n",
       "      <td>2</td>\n",
       "      <td>3</td>\n",
       "      <td>1562.955759</td>\n",
       "      <td>2631.829704</td>\n",
       "      <td>-0.406133</td>\n",
       "    </tr>\n",
       "    <tr>\n",
       "      <th>163</th>\n",
       "      <td>10_2_4</td>\n",
       "      <td>10</td>\n",
       "      <td>2</td>\n",
       "      <td>4</td>\n",
       "      <td>1910.633588</td>\n",
       "      <td>3154.757992</td>\n",
       "      <td>-0.394364</td>\n",
       "    </tr>\n",
       "    <tr>\n",
       "      <th>164</th>\n",
       "      <td>10_2_5</td>\n",
       "      <td>10</td>\n",
       "      <td>2</td>\n",
       "      <td>5</td>\n",
       "      <td>4429.365204</td>\n",
       "      <td>4935.159391</td>\n",
       "      <td>-0.102488</td>\n",
       "    </tr>\n",
       "    <tr>\n",
       "      <th>165</th>\n",
       "      <td>10_2_6</td>\n",
       "      <td>10</td>\n",
       "      <td>2</td>\n",
       "      <td>6</td>\n",
       "      <td>6928.681559</td>\n",
       "      <td>8887.455455</td>\n",
       "      <td>-0.220398</td>\n",
       "    </tr>\n",
       "    <tr>\n",
       "      <th>166</th>\n",
       "      <td>10_2_7</td>\n",
       "      <td>10</td>\n",
       "      <td>2</td>\n",
       "      <td>7</td>\n",
       "      <td>6740.768578</td>\n",
       "      <td>9206.205705</td>\n",
       "      <td>-0.267802</td>\n",
       "    </tr>\n",
       "    <tr>\n",
       "      <th>167</th>\n",
       "      <td>10_2_8</td>\n",
       "      <td>10</td>\n",
       "      <td>2</td>\n",
       "      <td>8</td>\n",
       "      <td>1329.118238</td>\n",
       "      <td>2341.993109</td>\n",
       "      <td>-0.432484</td>\n",
       "    </tr>\n",
       "    <tr>\n",
       "      <th>168</th>\n",
       "      <td>10_2_9</td>\n",
       "      <td>10</td>\n",
       "      <td>2</td>\n",
       "      <td>9</td>\n",
       "      <td>2572.798900</td>\n",
       "      <td>3702.768254</td>\n",
       "      <td>-0.305169</td>\n",
       "    </tr>\n",
       "    <tr>\n",
       "      <th>169</th>\n",
       "      <td>10_2_10</td>\n",
       "      <td>10</td>\n",
       "      <td>2</td>\n",
       "      <td>10</td>\n",
       "      <td>1563.402680</td>\n",
       "      <td>2496.438344</td>\n",
       "      <td>-0.373747</td>\n",
       "    </tr>\n",
       "  </tbody>\n",
       "</table>\n",
       "</div>"
      ],
      "text/plain": [
       "      run_id  site_id  battery_id  period_id  money_spent  money_no_batt  \\\n",
       "150   10_1_1       10           1          1  8233.395072    9696.784960   \n",
       "151   10_1_2       10           1          2  2324.751719    2822.340861   \n",
       "152   10_1_3       10           1          3  1964.539845    2631.829704   \n",
       "153   10_1_4       10           1          4  2386.440192    3154.757992   \n",
       "154   10_1_5       10           1          5  4605.945678    4935.159391   \n",
       "155   10_1_6       10           1          6  7625.865922    8887.455455   \n",
       "156   10_1_7       10           1          7  7682.609189    9206.205705   \n",
       "157   10_1_8       10           1          8  1719.569218    2341.993109   \n",
       "158   10_1_9       10           1          9  2975.351508    3702.768254   \n",
       "159  10_1_10       10           1         10  1897.722093    2496.438344   \n",
       "160   10_2_1       10           2          1  7400.154523    9696.784960   \n",
       "161   10_2_2       10           2          2  2053.015012    2822.340861   \n",
       "162   10_2_3       10           2          3  1562.955759    2631.829704   \n",
       "163   10_2_4       10           2          4  1910.633588    3154.757992   \n",
       "164   10_2_5       10           2          5  4429.365204    4935.159391   \n",
       "165   10_2_6       10           2          6  6928.681559    8887.455455   \n",
       "166   10_2_7       10           2          7  6740.768578    9206.205705   \n",
       "167   10_2_8       10           2          8  1329.118238    2341.993109   \n",
       "168   10_2_9       10           2          9  2572.798900    3702.768254   \n",
       "169  10_2_10       10           2         10  1563.402680    2496.438344   \n",
       "\n",
       "        score  \n",
       "150 -0.150915  \n",
       "151 -0.176304  \n",
       "152 -0.253546  \n",
       "153 -0.243543  \n",
       "154 -0.066708  \n",
       "155 -0.141952  \n",
       "156 -0.165497  \n",
       "157 -0.265767  \n",
       "158 -0.196452  \n",
       "159 -0.239828  \n",
       "160 -0.236845  \n",
       "161 -0.272584  \n",
       "162 -0.406133  \n",
       "163 -0.394364  \n",
       "164 -0.102488  \n",
       "165 -0.220398  \n",
       "166 -0.267802  \n",
       "167 -0.432484  \n",
       "168 -0.305169  \n",
       "169 -0.373747  "
      ]
     },
     "execution_count": 219,
     "metadata": {},
     "output_type": "execute_result"
    }
   ],
   "source": [
    "results  = pd.read_csv(\"results_1st_Place.csv\",sep = ',')\n",
    "results[results.site_id == 10]"
   ]
  },
  {
   "cell_type": "code",
   "execution_count": 220,
   "metadata": {},
   "outputs": [],
   "source": [
    "res = []\n",
    "for i in np.unique(results[results.battery_id == 1]['site_id']):\n",
    "    res.append(results.index[results.score== min(results[(results.site_id == i) & (results.battery_id == 1)]['score'])])"
   ]
  },
  {
   "cell_type": "code",
   "execution_count": 221,
   "metadata": {},
   "outputs": [],
   "source": [
    "money_spent = []\n",
    "money_no_batt = []\n",
    "score = []\n",
    "for i in np.unique(results[results.battery_id == 1]['site_id']):\n",
    "    money_spent.append(results.iloc[results.index[results.score== min(results[(results.site_id == i) & (results.battery_id == 1)]['score'])][0]]['money_spent'])\n",
    "    money_no_batt.append(results.iloc[results.index[results.score== min(results[(results.site_id == i) & (results.battery_id == 1)]['score'])][0]]['money_no_batt'])\n",
    "    score.append(results.iloc[results.index[results.score== min(results[(results.site_id == i) & (results.battery_id == 1)]['score'])][0]]['score'])"
   ]
  },
  {
   "cell_type": "code",
   "execution_count": 222,
   "metadata": {},
   "outputs": [
    {
     "data": {
      "text/plain": [
       "[-0.06387276557154739,\n",
       " -0.09145131147308697,\n",
       " -0.322697104112894,\n",
       " -0.3553640304773575,\n",
       " -0.22122011981847894,\n",
       " -0.26576674727806765,\n",
       " -0.2807531148383278,\n",
       " -0.3959812307993208,\n",
       " -0.2299886684820945,\n",
       " -0.20672142590793227,\n",
       " -0.3466333277991088]"
      ]
     },
     "execution_count": 222,
     "metadata": {},
     "output_type": "execute_result"
    }
   ],
   "source": [
    "score"
   ]
  },
  {
   "cell_type": "code",
   "execution_count": 223,
   "metadata": {},
   "outputs": [
    {
     "data": {
      "text/plain": [
       "[4368.767658719135,\n",
       " 3527.0518996440205,\n",
       " 105.18334784063427,\n",
       " 75.51329898393583,\n",
       " 5.32482584342651,\n",
       " 1719.5692184610086,\n",
       " 471.1475627274587,\n",
       " 5.611732869993174,\n",
       " 505.01851536661627,\n",
       " 900.4956403193651,\n",
       " 1622.4071185964676]"
      ]
     },
     "execution_count": 223,
     "metadata": {},
     "output_type": "execute_result"
    }
   ],
   "source": [
    "money_spent"
   ]
  },
  {
   "cell_type": "code",
   "execution_count": 224,
   "metadata": {},
   "outputs": [
    {
     "data": {
      "text/plain": [
       "[4666.852429933269,\n",
       " 3882.072523116676,\n",
       " 155.29735437328824,\n",
       " 117.14099515708679,\n",
       " 6.8373952370025,\n",
       " 2341.993109255488,\n",
       " 655.056799615551,\n",
       " 9.290659754529466,\n",
       " 655.8585499918357,\n",
       " 1135.156891574956,\n",
       " 2483.149489598736]"
      ]
     },
     "execution_count": 224,
     "metadata": {},
     "output_type": "execute_result"
    }
   ],
   "source": [
    "money_no_batt"
   ]
  },
  {
   "cell_type": "code",
   "execution_count": 225,
   "metadata": {},
   "outputs": [
    {
     "data": {
      "image/png": "[encoded data removed]",
      "text/plain": [
       "<Figure size 864x504 with 1 Axes>"
      ]
     },
     "metadata": {
      "needs_background": "light"
     },
     "output_type": "display_data"
    }
   ],
   "source": [
    "index = np.arange(11)\n",
    "values1 = money_spent\n",
    "values2 = money_no_batt\n",
    "bw = 0.4\n",
    "plt.figure(figsize=(12, 7))\n",
    "plt.bar(index, values1, bw,label='Затрат с батареей')\n",
    "plt.bar(index+bw, values2, bw,label='Затраты без батареи')\n",
    "plt.legend()\n",
    "plt.show()"
   ]
  },
  {
   "cell_type": "code",
   "execution_count": 261,
   "metadata": {},
   "outputs": [],
   "source": [
    "money_spent = []\n",
    "money_no_batt = []\n",
    "score = []\n",
    "for i in np.unique(results[results.battery_id == 2]['site_id']):\n",
    "    money_spent.append(sum(list(results[(results.site_id == i)& (results['battery_id'] == 2)]['money_spent'])))\n",
    "    money_no_batt.append(sum(list(results[(results.site_id == i)& (results['battery_id'] == 2)]['money_no_batt'])))\n",
    "    score.append(list(results[(results.site_id == i)& (results['battery_id'] == 2)]['score']))"
   ]
  },
  {
   "cell_type": "code",
   "execution_count": 227,
   "metadata": {},
   "outputs": [],
   "source": [
    "money_spent_mean  = []\n",
    "money_no_batt_mean  = []\n",
    "score_mean  = []\n",
    "for i in np.unique(results[results.battery_id == 2]['site_id']):\n",
    "    money_spent_mean.append(np.mean(list(results[(results.site_id == i)& (results['battery_id'] == 2)]['money_spent'])))\n",
    "    money_no_batt_mean.append(np.mean(list(results[(results.site_id == i)& (results['battery_id'] == 2)]['money_no_batt'])))\n",
    "    score_mean.append(np.mean(list(results[(results.site_id == i)& (results['battery_id'] == 2)]['score'])))"
   ]
  },
  {
   "cell_type": "code",
   "execution_count": 265,
   "metadata": {},
   "outputs": [
    {
     "name": "stdout",
     "output_type": "stream",
     "text": [
      "[-0.09431106594142134, -0.15021297962479122, -0.2078575676302176, -0.2515786160277708, -0.20779694203931082, -0.26836376571432524, -0.3026572941447129, -0.27582330769519775, -0.15203522136787848, -0.1815268440332964, -0.2417564442326732]\n"
     ]
    }
   ],
   "source": [
    "sc = []\n",
    "for i in range(0,11):\n",
    "    sc.append((money_spent[i] -  money_no_batt[i])/ money_no_batt[i])\n",
    "    \n",
    "print(sc)"
   ]
  },
  {
   "cell_type": "code",
   "execution_count": 264,
   "metadata": {},
   "outputs": [
    {
     "data": {
      "text/plain": [
       "[23634.974146652727,\n",
       " 28809.54758519899,\n",
       " 7233.85089375751,\n",
       " 5045.138918204479,\n",
       " 287.5828563554879,\n",
       " 49875.7337763543,\n",
       " 12351.574428334141,\n",
       " 418.7918223403086,\n",
       " 21738.67187887083,\n",
       " 27891.930822175298,\n",
       " 13635.816404235133]"
      ]
     },
     "execution_count": 264,
     "metadata": {},
     "output_type": "execute_result"
    }
   ],
   "source": [
    "money_no_batt"
   ]
  },
  {
   "cell_type": "code",
   "execution_count": 263,
   "metadata": {},
   "outputs": [
    {
     "data": {
      "text/plain": [
       "0.20056501271670382"
      ]
     },
     "execution_count": 263,
     "metadata": {},
     "output_type": "execute_result"
    }
   ],
   "source": [
    " (sum(money_no_batt) - sum(money_spent))/sum(money_no_batt)"
   ]
  },
  {
   "cell_type": "code",
   "execution_count": 249,
   "metadata": {},
   "outputs": [
    {
     "data": {
      "text/plain": [
       "[-0.09105953841997358,\n",
       " -0.15090707614576568,\n",
       " -0.2802564443089407,\n",
       " -0.30874450120492636,\n",
       " -0.15768707959214984,\n",
       " -0.30120135336016085,\n",
       " -0.3299366064932229,\n",
       " -0.31515712404360036,\n",
       " -0.18180725775180978,\n",
       " -0.2069473726325933,\n",
       " -0.2515969809371053]"
      ]
     },
     "execution_count": 249,
     "metadata": {},
     "output_type": "execute_result"
    }
   ],
   "source": [
    "score_mean"
   ]
  },
  {
   "cell_type": "code",
   "execution_count": 237,
   "metadata": {},
   "outputs": [
    {
     "data": {
      "text/plain": [
       "[-0.09105953841997358,\n",
       " -0.15090707614576568,\n",
       " -0.2802564443089407,\n",
       " -0.30874450120492636,\n",
       " -0.15768707959214984,\n",
       " -0.30120135336016085,\n",
       " -0.3299366064932229,\n",
       " -0.31515712404360036,\n",
       " -0.18180725775180978,\n",
       " -0.2069473726325933,\n",
       " -0.2515969809371053]"
      ]
     },
     "execution_count": 237,
     "metadata": {},
     "output_type": "execute_result"
    }
   ],
   "source": [
    "score_mean"
   ]
  },
  {
   "cell_type": "code",
   "execution_count": null,
   "metadata": {},
   "outputs": [],
   "source": []
  },
  {
   "cell_type": "code",
   "execution_count": 262,
   "metadata": {},
   "outputs": [
    {
     "data": {
      "image/png": "[encoded data removed]",
      "text/plain": [
       "<Figure size 864x504 with 1 Axes>"
      ]
     },
     "metadata": {
      "needs_background": "light"
     },
     "output_type": "display_data"
    }
   ],
   "source": [
    "index = np.arange(11)\n",
    "values1 = money_spent\n",
    "values2 = money_no_batt\n",
    "bw = 0.4\n",
    "plt.figure(figsize=(12, 7))\n",
    "plt.bar(index, values1, bw,label='Затрат с батареей')\n",
    "plt.bar(index+bw, values2, bw,label='Затраты без батареи')\n",
    "plt.legend()\n",
    "plt.show()"
   ]
  },
  {
   "cell_type": "code",
   "execution_count": 233,
   "metadata": {},
   "outputs": [
    {
     "data": {
      "text/plain": [
       "[481.5125887940045,\n",
       " 714.3681241966489,\n",
       " 1674.6063993747782,\n",
       " 1080.8430412922162,\n",
       " 323.512060507155,\n",
       " 586.9191588970459,\n",
       " 2128.77335158798,\n",
       " 1622.7456087776718]"
      ]
     },
     "execution_count": 233,
     "metadata": {},
     "output_type": "execute_result"
    }
   ],
   "source": []
  },
  {
   "cell_type": "code",
   "execution_count": 235,
   "metadata": {},
   "outputs": [
    {
     "data": {
      "image/png": "[encoded data removed]",
      "text/plain": [
       "<Figure size 864x504 with 1 Axes>"
      ]
     },
     "metadata": {
      "needs_background": "light"
     },
     "output_type": "display_data"
    }
   ],
   "source": [
    "x = list(i for i in range(0,len(money_spent[6])))\n",
    "plt.figure(figsize=(12, 7))\n",
    "plt.plot(x,money_spent[6], alpha=0.7, label=\"Затрат с батареей\", lw=5, mec='b', mew=2, ms=10)\n",
    "plt.plot(x, money_no_batt[6], label=\"Затраты без батареи\", mec='r', lw=2, mew=2, ms=12)\n",
    "plt.legend()\n",
    "plt.grid(True)"
   ]
  },
  {
   "cell_type": "code",
   "execution_count": 215,
   "metadata": {},
   "outputs": [
    {
     "data": {
      "text/plain": [
       "[]"
      ]
     },
     "execution_count": 215,
     "metadata": {},
     "output_type": "execute_result"
    }
   ],
   "source": [
    "list(results[(results.site_id == 6)& (results['battery_id'] == 1)]['period_id'])"
   ]
  },
  {
   "cell_type": "code",
   "execution_count": 187,
   "metadata": {},
   "outputs": [
    {
     "data": {
      "text/plain": [
       "-0.2410563686462896"
      ]
     },
     "execution_count": 187,
     "metadata": {},
     "output_type": "execute_result"
    }
   ],
   "source": [
    "([1,1,1,1,1,1,1,1,1,1] - np.array(y2)/np.array(y1)).mean()"
   ]
  },
  {
   "cell_type": "code",
   "execution_count": 191,
   "metadata": {},
   "outputs": [],
   "source": [
    "data = None\n",
    "\n",
    "with open('PMSTYLE.STY', encoding='cp1251') as fh:\n",
    "    data = fh.read()\n",
    "\n",
    "with open('PMSTYLE.STY', 'wb') as fh:\n",
    "    fh.write(data.encode('utf-8'))"
   ]
  },
  {
   "cell_type": "code",
   "execution_count": 269,
   "metadata": {},
   "outputs": [
    {
     "ename": "ImportError",
     "evalue": "dlopen(/Users/anastasiamarkelova/Library/Python/3.8/lib/python/site-packages/_cvxcore.cpython-38-darwin.so, 2): Library not loaded: @rpath/libc++.1.dylib\n  Referenced from: /Users/anastasiamarkelova/Library/Python/3.8/lib/python/site-packages/_cvxcore.cpython-38-darwin.so\n  Reason: image not found",
     "output_type": "error",
     "traceback": [
      "\u001b[0;31m---------------------------------------------------------------------------\u001b[0m",
      "\u001b[0;31mImportError\u001b[0m                               Traceback (most recent call last)",
      "\u001b[0;32m<ipython-input-269-8394b6459e50>\u001b[0m in \u001b[0;36m<module>\u001b[0;34m\u001b[0m\n\u001b[0;32m----> 1\u001b[0;31m \u001b[0;32mimport\u001b[0m \u001b[0mcvxpy\u001b[0m \u001b[0;32mas\u001b[0m \u001b[0mcp\u001b[0m\u001b[0;34m\u001b[0m\u001b[0;34m\u001b[0m\u001b[0m\n\u001b[0m\u001b[1;32m      2\u001b[0m \u001b[0;34m\u001b[0m\u001b[0m\n\u001b[1;32m      3\u001b[0m \u001b[0;31m# Create two scalar optimization variables.\u001b[0m\u001b[0;34m\u001b[0m\u001b[0;34m\u001b[0m\u001b[0;34m\u001b[0m\u001b[0m\n\u001b[1;32m      4\u001b[0m \u001b[0mx\u001b[0m \u001b[0;34m=\u001b[0m \u001b[0mcp\u001b[0m\u001b[0;34m.\u001b[0m\u001b[0mVariable\u001b[0m\u001b[0;34m(\u001b[0m\u001b[0;34m)\u001b[0m\u001b[0;34m\u001b[0m\u001b[0;34m\u001b[0m\u001b[0m\n\u001b[1;32m      5\u001b[0m \u001b[0my\u001b[0m \u001b[0;34m=\u001b[0m \u001b[0mcp\u001b[0m\u001b[0;34m.\u001b[0m\u001b[0mVariable\u001b[0m\u001b[0;34m(\u001b[0m\u001b[0;34m)\u001b[0m\u001b[0;34m\u001b[0m\u001b[0;34m\u001b[0m\u001b[0m\n",
      "\u001b[0;32m~/Library/Python/3.8/lib/python/site-packages/cvxpy/__init__.py\u001b[0m in \u001b[0;36m<module>\u001b[0;34m\u001b[0m\n\u001b[1;32m     16\u001b[0m \u001b[0;34m\u001b[0m\u001b[0m\n\u001b[1;32m     17\u001b[0m \u001b[0m__version__\u001b[0m \u001b[0;34m=\u001b[0m \u001b[0;34m\"1.1.11\"\u001b[0m\u001b[0;34m\u001b[0m\u001b[0;34m\u001b[0m\u001b[0m\n\u001b[0;32m---> 18\u001b[0;31m \u001b[0;32mfrom\u001b[0m \u001b[0mcvxpy\u001b[0m\u001b[0;34m.\u001b[0m\u001b[0matoms\u001b[0m \u001b[0;32mimport\u001b[0m \u001b[0;34m*\u001b[0m\u001b[0;34m\u001b[0m\u001b[0;34m\u001b[0m\u001b[0m\n\u001b[0m\u001b[1;32m     19\u001b[0m \u001b[0;32mfrom\u001b[0m \u001b[0mcvxpy\u001b[0m\u001b[0;34m.\u001b[0m\u001b[0mconstraints\u001b[0m \u001b[0;32mimport\u001b[0m \u001b[0mNonPos\u001b[0m\u001b[0;34m,\u001b[0m \u001b[0mZero\u001b[0m\u001b[0;34m,\u001b[0m \u001b[0mSOC\u001b[0m\u001b[0;34m,\u001b[0m \u001b[0mPSD\u001b[0m\u001b[0;34m\u001b[0m\u001b[0;34m\u001b[0m\u001b[0m\n\u001b[1;32m     20\u001b[0m \u001b[0;32mfrom\u001b[0m \u001b[0mcvxpy\u001b[0m\u001b[0;34m.\u001b[0m\u001b[0mexpressions\u001b[0m\u001b[0;34m.\u001b[0m\u001b[0mexpression\u001b[0m \u001b[0;32mimport\u001b[0m \u001b[0mExpression\u001b[0m\u001b[0;34m\u001b[0m\u001b[0;34m\u001b[0m\u001b[0m\n",
      "\u001b[0;32m~/Library/Python/3.8/lib/python/site-packages/cvxpy/atoms/__init__.py\u001b[0m in \u001b[0;36m<module>\u001b[0;34m\u001b[0m\n\u001b[1;32m     18\u001b[0m \u001b[0;32mfrom\u001b[0m \u001b[0mcvxpy\u001b[0m\u001b[0;34m.\u001b[0m\u001b[0matoms\u001b[0m\u001b[0;34m.\u001b[0m\u001b[0mdist_ratio\u001b[0m \u001b[0;32mimport\u001b[0m \u001b[0mdist_ratio\u001b[0m\u001b[0;34m\u001b[0m\u001b[0;34m\u001b[0m\u001b[0m\n\u001b[1;32m     19\u001b[0m \u001b[0;32mfrom\u001b[0m \u001b[0mcvxpy\u001b[0m\u001b[0;34m.\u001b[0m\u001b[0matoms\u001b[0m\u001b[0;34m.\u001b[0m\u001b[0meye_minus_inv\u001b[0m \u001b[0;32mimport\u001b[0m \u001b[0meye_minus_inv\u001b[0m\u001b[0;34m,\u001b[0m \u001b[0mresolvent\u001b[0m\u001b[0;34m\u001b[0m\u001b[0;34m\u001b[0m\u001b[0m\n\u001b[0;32m---> 20\u001b[0;31m \u001b[0;32mfrom\u001b[0m \u001b[0mcvxpy\u001b[0m\u001b[0;34m.\u001b[0m\u001b[0matoms\u001b[0m\u001b[0;34m.\u001b[0m\u001b[0mgeo_mean\u001b[0m \u001b[0;32mimport\u001b[0m \u001b[0mgeo_mean\u001b[0m\u001b[0;34m\u001b[0m\u001b[0;34m\u001b[0m\u001b[0m\n\u001b[0m\u001b[1;32m     21\u001b[0m \u001b[0;32mfrom\u001b[0m \u001b[0mcvxpy\u001b[0m\u001b[0;34m.\u001b[0m\u001b[0matoms\u001b[0m\u001b[0;34m.\u001b[0m\u001b[0mgen_lambda_max\u001b[0m \u001b[0;32mimport\u001b[0m \u001b[0mgen_lambda_max\u001b[0m\u001b[0;34m\u001b[0m\u001b[0;34m\u001b[0m\u001b[0m\n\u001b[1;32m     22\u001b[0m \u001b[0;32mfrom\u001b[0m \u001b[0mcvxpy\u001b[0m\u001b[0;34m.\u001b[0m\u001b[0matoms\u001b[0m\u001b[0;34m.\u001b[0m\u001b[0mgmatmul\u001b[0m \u001b[0;32mimport\u001b[0m \u001b[0mgmatmul\u001b[0m\u001b[0;34m\u001b[0m\u001b[0;34m\u001b[0m\u001b[0m\n",
      "\u001b[0;32m~/Library/Python/3.8/lib/python/site-packages/cvxpy/atoms/geo_mean.py\u001b[0m in \u001b[0;36m<module>\u001b[0;34m\u001b[0m\n\u001b[1;32m     18\u001b[0m \u001b[0;32mimport\u001b[0m \u001b[0mnumpy\u001b[0m \u001b[0;32mas\u001b[0m \u001b[0mnp\u001b[0m\u001b[0;34m\u001b[0m\u001b[0;34m\u001b[0m\u001b[0m\n\u001b[1;32m     19\u001b[0m \u001b[0;32mimport\u001b[0m \u001b[0mscipy\u001b[0m\u001b[0;34m.\u001b[0m\u001b[0msparse\u001b[0m \u001b[0;32mas\u001b[0m \u001b[0msp\u001b[0m\u001b[0;34m\u001b[0m\u001b[0;34m\u001b[0m\u001b[0m\n\u001b[0;32m---> 20\u001b[0;31m from cvxpy.utilities.power_tools import (fracify, decompose, approx_error, lower_bound,\n\u001b[0m\u001b[1;32m     21\u001b[0m                                          over_bound, prettydict)\n\u001b[1;32m     22\u001b[0m \u001b[0;34m\u001b[0m\u001b[0m\n",
      "\u001b[0;32m~/Library/Python/3.8/lib/python/site-packages/cvxpy/utilities/power_tools.py\u001b[0m in \u001b[0;36m<module>\u001b[0;34m\u001b[0m\n\u001b[1;32m     16\u001b[0m \u001b[0;34m\u001b[0m\u001b[0m\n\u001b[1;32m     17\u001b[0m \u001b[0;32mfrom\u001b[0m \u001b[0mfractions\u001b[0m \u001b[0;32mimport\u001b[0m \u001b[0mFraction\u001b[0m\u001b[0;34m\u001b[0m\u001b[0;34m\u001b[0m\u001b[0m\n\u001b[0;32m---> 18\u001b[0;31m \u001b[0;32mfrom\u001b[0m \u001b[0mcvxpy\u001b[0m\u001b[0;34m.\u001b[0m\u001b[0matoms\u001b[0m\u001b[0;34m.\u001b[0m\u001b[0maffine\u001b[0m\u001b[0;34m.\u001b[0m\u001b[0mreshape\u001b[0m \u001b[0;32mimport\u001b[0m \u001b[0mreshape\u001b[0m\u001b[0;34m\u001b[0m\u001b[0;34m\u001b[0m\u001b[0m\n\u001b[0m\u001b[1;32m     19\u001b[0m \u001b[0;32mfrom\u001b[0m \u001b[0mcvxpy\u001b[0m\u001b[0;34m.\u001b[0m\u001b[0matoms\u001b[0m\u001b[0;34m.\u001b[0m\u001b[0maffine\u001b[0m\u001b[0;34m.\u001b[0m\u001b[0mvstack\u001b[0m \u001b[0;32mimport\u001b[0m \u001b[0mvstack\u001b[0m\u001b[0;34m\u001b[0m\u001b[0;34m\u001b[0m\u001b[0m\n\u001b[1;32m     20\u001b[0m \u001b[0;32mfrom\u001b[0m \u001b[0mcvxpy\u001b[0m\u001b[0;34m.\u001b[0m\u001b[0mconstraints\u001b[0m\u001b[0;34m.\u001b[0m\u001b[0msecond_order\u001b[0m \u001b[0;32mimport\u001b[0m \u001b[0mSOC\u001b[0m\u001b[0;34m\u001b[0m\u001b[0;34m\u001b[0m\u001b[0m\n",
      "\u001b[0;32m~/Library/Python/3.8/lib/python/site-packages/cvxpy/atoms/affine/reshape.py\u001b[0m in \u001b[0;36m<module>\u001b[0;34m\u001b[0m\n\u001b[1;32m     16\u001b[0m \u001b[0;34m\u001b[0m\u001b[0m\n\u001b[1;32m     17\u001b[0m \u001b[0;32mfrom\u001b[0m \u001b[0mcvxpy\u001b[0m\u001b[0;34m.\u001b[0m\u001b[0mexpressions\u001b[0m\u001b[0;34m.\u001b[0m\u001b[0mexpression\u001b[0m \u001b[0;32mimport\u001b[0m \u001b[0mExpression\u001b[0m\u001b[0;34m\u001b[0m\u001b[0;34m\u001b[0m\u001b[0m\n\u001b[0;32m---> 18\u001b[0;31m \u001b[0;32mfrom\u001b[0m \u001b[0mcvxpy\u001b[0m\u001b[0;34m.\u001b[0m\u001b[0matoms\u001b[0m\u001b[0;34m.\u001b[0m\u001b[0maffine\u001b[0m\u001b[0;34m.\u001b[0m\u001b[0mhstack\u001b[0m \u001b[0;32mimport\u001b[0m \u001b[0mhstack\u001b[0m\u001b[0;34m\u001b[0m\u001b[0;34m\u001b[0m\u001b[0m\n\u001b[0m\u001b[1;32m     19\u001b[0m \u001b[0;32mfrom\u001b[0m \u001b[0mcvxpy\u001b[0m\u001b[0;34m.\u001b[0m\u001b[0matoms\u001b[0m\u001b[0;34m.\u001b[0m\u001b[0maffine\u001b[0m\u001b[0;34m.\u001b[0m\u001b[0maffine_atom\u001b[0m \u001b[0;32mimport\u001b[0m \u001b[0mAffAtom\u001b[0m\u001b[0;34m\u001b[0m\u001b[0;34m\u001b[0m\u001b[0m\n\u001b[1;32m     20\u001b[0m \u001b[0;32mimport\u001b[0m \u001b[0mcvxpy\u001b[0m\u001b[0;34m.\u001b[0m\u001b[0mlin_ops\u001b[0m\u001b[0;34m.\u001b[0m\u001b[0mlin_utils\u001b[0m \u001b[0;32mas\u001b[0m \u001b[0mlu\u001b[0m\u001b[0;34m\u001b[0m\u001b[0;34m\u001b[0m\u001b[0m\n",
      "\u001b[0;32m~/Library/Python/3.8/lib/python/site-packages/cvxpy/atoms/affine/hstack.py\u001b[0m in \u001b[0;36m<module>\u001b[0;34m\u001b[0m\n\u001b[1;32m     16\u001b[0m \u001b[0;34m\u001b[0m\u001b[0m\n\u001b[1;32m     17\u001b[0m \u001b[0;32mimport\u001b[0m \u001b[0mcvxpy\u001b[0m\u001b[0;34m.\u001b[0m\u001b[0mlin_ops\u001b[0m\u001b[0;34m.\u001b[0m\u001b[0mlin_utils\u001b[0m \u001b[0;32mas\u001b[0m \u001b[0mlu\u001b[0m\u001b[0;34m\u001b[0m\u001b[0;34m\u001b[0m\u001b[0m\n\u001b[0;32m---> 18\u001b[0;31m \u001b[0;32mfrom\u001b[0m \u001b[0mcvxpy\u001b[0m\u001b[0;34m.\u001b[0m\u001b[0matoms\u001b[0m\u001b[0;34m.\u001b[0m\u001b[0maffine\u001b[0m\u001b[0;34m.\u001b[0m\u001b[0maffine_atom\u001b[0m \u001b[0;32mimport\u001b[0m \u001b[0mAffAtom\u001b[0m\u001b[0;34m\u001b[0m\u001b[0;34m\u001b[0m\u001b[0m\n\u001b[0m\u001b[1;32m     19\u001b[0m \u001b[0;32mimport\u001b[0m \u001b[0mnumpy\u001b[0m \u001b[0;32mas\u001b[0m \u001b[0mnp\u001b[0m\u001b[0;34m\u001b[0m\u001b[0;34m\u001b[0m\u001b[0m\n\u001b[1;32m     20\u001b[0m \u001b[0;34m\u001b[0m\u001b[0m\n",
      "\u001b[0;32m~/Library/Python/3.8/lib/python/site-packages/cvxpy/atoms/affine/affine_atom.py\u001b[0m in \u001b[0;36m<module>\u001b[0;34m\u001b[0m\n\u001b[1;32m     20\u001b[0m \u001b[0;32mimport\u001b[0m \u001b[0mcvxpy\u001b[0m\u001b[0;34m.\u001b[0m\u001b[0mlin_ops\u001b[0m\u001b[0;34m.\u001b[0m\u001b[0mlin_utils\u001b[0m \u001b[0;32mas\u001b[0m \u001b[0mlu\u001b[0m\u001b[0;34m\u001b[0m\u001b[0;34m\u001b[0m\u001b[0m\n\u001b[1;32m     21\u001b[0m \u001b[0;32mfrom\u001b[0m \u001b[0mcvxpy\u001b[0m\u001b[0;34m.\u001b[0m\u001b[0matoms\u001b[0m\u001b[0;34m.\u001b[0m\u001b[0matom\u001b[0m \u001b[0;32mimport\u001b[0m \u001b[0mAtom\u001b[0m\u001b[0;34m\u001b[0m\u001b[0;34m\u001b[0m\u001b[0m\n\u001b[0;32m---> 22\u001b[0;31m \u001b[0;32mfrom\u001b[0m \u001b[0mcvxpy\u001b[0m\u001b[0;34m.\u001b[0m\u001b[0mcvxcore\u001b[0m\u001b[0;34m.\u001b[0m\u001b[0mpython\u001b[0m \u001b[0;32mimport\u001b[0m \u001b[0mcanonInterface\u001b[0m\u001b[0;34m\u001b[0m\u001b[0;34m\u001b[0m\u001b[0m\n\u001b[0m\u001b[1;32m     23\u001b[0m \u001b[0;32mfrom\u001b[0m \u001b[0mcvxpy\u001b[0m\u001b[0;34m.\u001b[0m\u001b[0mexpressions\u001b[0m\u001b[0;34m.\u001b[0m\u001b[0mconstants\u001b[0m \u001b[0;32mimport\u001b[0m \u001b[0mConstant\u001b[0m\u001b[0;34m\u001b[0m\u001b[0;34m\u001b[0m\u001b[0m\n\u001b[1;32m     24\u001b[0m \u001b[0;32mfrom\u001b[0m \u001b[0mcvxpy\u001b[0m\u001b[0;34m.\u001b[0m\u001b[0mutilities\u001b[0m \u001b[0;32mimport\u001b[0m \u001b[0mperformance_utils\u001b[0m \u001b[0;32mas\u001b[0m \u001b[0mperf\u001b[0m\u001b[0;34m\u001b[0m\u001b[0;34m\u001b[0m\u001b[0m\n",
      "\u001b[0;32m~/Library/Python/3.8/lib/python/site-packages/cvxpy/cvxcore/python/__init__.py\u001b[0m in \u001b[0;36m<module>\u001b[0;34m\u001b[0m\n\u001b[1;32m      1\u001b[0m \u001b[0;31m# TODO(akshayka): This is a hack; the swig-auto-generated cvxcore.py\u001b[0m\u001b[0;34m\u001b[0m\u001b[0;34m\u001b[0m\u001b[0;34m\u001b[0m\u001b[0m\n\u001b[1;32m      2\u001b[0m \u001b[0;31m# tries to import cvxcore as `from . import _cvxcore`\u001b[0m\u001b[0;34m\u001b[0m\u001b[0;34m\u001b[0m\u001b[0;34m\u001b[0m\u001b[0m\n\u001b[0;32m----> 3\u001b[0;31m \u001b[0;32mimport\u001b[0m \u001b[0m_cvxcore\u001b[0m\u001b[0;34m\u001b[0m\u001b[0;34m\u001b[0m\u001b[0m\n\u001b[0m",
      "\u001b[0;31mImportError\u001b[0m: dlopen(/Users/anastasiamarkelova/Library/Python/3.8/lib/python/site-packages/_cvxcore.cpython-38-darwin.so, 2): Library not loaded: @rpath/libc++.1.dylib\n  Referenced from: /Users/anastasiamarkelova/Library/Python/3.8/lib/python/site-packages/_cvxcore.cpython-38-darwin.so\n  Reason: image not found"
     ]
    }
   ],
   "source": [
    "import cvxpy as cp\n",
    "\n",
    "# Create two scalar optimization variables.\n",
    "x = cp.Variable()\n",
    "y = cp.Variable()\n",
    "\n",
    "# Create two constraints.\n",
    "constraints = [x + y == 1,\n",
    "               x - y >= 1]\n",
    "\n",
    "# Form objective.\n",
    "obj = cp.Minimize((x - y)**2)\n",
    "\n",
    "# Form and solve problem.\n",
    "prob = cp.Problem(obj, constraints)\n",
    "prob.solve()\n",
    "\n",
    "# The optimal dual variable (Lagrange multiplier) for\n",
    "# a constraint is stored in constraint.dual_value.\n",
    "print(\"optimal (x + y == 1) dual variable\", constraints[0].dual_value)\n",
    "print(\"optimal (x - y >= 1) dual variable\", constraints[1].dual_value)\n",
    "print(\"x - y value:\", (x - y).value)"
   ]
  },
  {
   "cell_type": "code",
   "execution_count": null,
   "metadata": {},
   "outputs": [],
   "source": []
  }
 ],
 "metadata": {
  "kernelspec": {
   "display_name": "Python 3",
   "language": "python",
   "name": "python3"
  },
  "language_info": {
   "codemirror_mode": {
    "name": "ipython",
    "version": 3
   },
   "file_extension": ".py",
   "mimetype": "text/x-python",
   "name": "python",
   "nbconvert_exporter": "python",
   "pygments_lexer": "ipython3",
   "version": "3.8.2"
  }
 },
 "nbformat": 4,
 "nbformat_minor": 4
}
